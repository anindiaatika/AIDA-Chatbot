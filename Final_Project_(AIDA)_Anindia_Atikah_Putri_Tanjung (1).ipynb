{
  "nbformat": 4,
  "nbformat_minor": 0,
  "metadata": {
    "colab": {
      "provenance": []
    },
    "kernelspec": {
      "name": "python3",
      "display_name": "Python 3"
    },
    "language_info": {
      "name": "python"
    }
  },
  "cells": [
    {
      "cell_type": "code",
      "execution_count": 4,
      "metadata": {
        "colab": {
          "base_uri": "https://localhost:8080/"
        },
        "id": "Q1lILJDL99D_",
        "outputId": "5c752221-83a0-4215-b23c-d113fd9bcf8a"
      },
      "outputs": [
        {
          "output_type": "stream",
          "name": "stdout",
          "text": [
            "\u001b[?25l   \u001b[90m━━━━━━━━━━━━━━━━━━━━━━━━━━━━━━━━━━━━━━━━\u001b[0m \u001b[32m0.0/135.4 kB\u001b[0m \u001b[31m?\u001b[0m eta \u001b[36m-:--:--\u001b[0m\r\u001b[2K   \u001b[90m━━━━━━━━━━━━━━━━━━━━━━━━━━━━━━━━━━━━━━━━\u001b[0m \u001b[32m135.4/135.4 kB\u001b[0m \u001b[31m5.0 MB/s\u001b[0m eta \u001b[36m0:00:00\u001b[0m\n",
            "\u001b[?25h"
          ]
        }
      ],
      "source": [
        "!pip install -q groq gradio"
      ]
    },
    {
      "cell_type": "code",
      "source": [
        "API_KEY = \"ISI_API_KEY_DI_SINI\"\n",
        "\n",
        "import os\n",
        "from groq import Groq\n",
        "\n",
        "os.environ[\"GROQ_API_KEY\"] = API_KEY\n",
        "client = Groq(api_key=os.environ.get(\"GROQ_API_KEY\"))"
      ],
      "metadata": {
        "id": "7nD_icVU-h3G"
      },
      "execution_count": 5,
      "outputs": []
    },
    {
      "cell_type": "code",
      "source": [
        "SYSTEM_PROMPT = (\n",
        "    \"You are AIDA (AI Data Assistant), a formal and supportive mentor. \"\n",
        "    \"Explain AI/Data Science topics clearly. If user asks for a short answer, be concise. \"\n",
        "    \"If user wants in-depth explanation, provide structured, detailed responses with examples.\"\n",
        ")\n",
        "\n",
        "def detect_mode(text):\n",
        "    t = text.lower()\n",
        "    if any(k in t for k in [\"singkat\", \"ringkas\", \"brief\", \"summary\"]):\n",
        "        return \"short\"\n",
        "    if any(k in t for k in [\"detail\", \"lebih dalam\", \"lengkap\", \"detailed\"]):\n",
        "        return \"detailed\"\n",
        "    return \"default\"\n",
        "\n",
        "def build_messages(history, user, mode):\n",
        "    msgs = [{\"role\": \"system\", \"content\": SYSTEM_PROMPT}]\n",
        "    for role, text in history:\n",
        "        msgs.append({\"role\": role, \"content\": text})\n",
        "    final_user = f\"Jelaskan secara singkat: {user}\" if mode==\"short\" else (\n",
        "                 f\"Jelaskan secara mendalam: {user}\" if mode==\"detailed\" else user)\n",
        "    msgs.append({\"role\": \"user\", \"content\": final_user})\n",
        "    return msgs\n",
        "\n",
        "def get_reply(messages):\n",
        "    res = client.chat.completions.create(\n",
        "        messages=messages,\n",
        "        model=\"llama-3.3-70b-versatile\",\n",
        "        max_tokens=512,\n",
        "        temperature=0.1,\n",
        "    )\n",
        "    return res.choices[0].message.content\n"
      ],
      "metadata": {
        "id": "zfTgFxOKDW_Q"
      },
      "execution_count": 10,
      "outputs": []
    },
    {
      "cell_type": "code",
      "source": [
        "import gradio as gr\n",
        "\n",
        "custom_css = \"\"\"\n",
        "@import url('https://fonts.googleapis.com/css2?family=Nunito:wght@400;600&display=swap');\n",
        "\n",
        "* { font-family: 'Nunito', sans-serif !important; }\n",
        ".gradio-container {background-color: #F3E8FF !important;}\n",
        ".user-message {background-color: #E9D5FF !important; color: #000 !important;}\n",
        ".bot-message {background-color: #FFFFFF !important; color: #000 !important;}\n",
        "button {background-color: #A78BFA !important; color: white !important;\n",
        "        border-radius: 999px !important; padding: 6px 14px !important;}\n",
        "\"\"\"\n",
        "\n",
        "def respond(user_message, history):\n",
        "    history = history or []\n",
        "\n",
        "    mode = detect_mode(user_message)\n",
        "    messages = build_messages([(m[\"role\"], m[\"content\"]) for m in history], user_message, mode)\n",
        "\n",
        "    try:\n",
        "        reply = get_reply(messages)\n",
        "    except Exception as e:\n",
        "        reply = f\"[Error: {e}]\"\n",
        "\n",
        "    history.append({\"role\": \"user\", \"content\": user_message})\n",
        "    history.append({\"role\": \"assistant\", \"content\": reply})\n",
        "    return history, \"\"\n",
        "\n",
        "with gr.Blocks(css=custom_css) as demo:\n",
        "    gr.Markdown(\"### AIDA — AI Data Science Assistant\\n*Created by **Anindia** for Hacktiv8 Final Project*\")\n",
        "    chatbot = gr.Chatbot(height=500, type=\"messages\")\n",
        "    with gr.Row():\n",
        "        inp = gr.Textbox(placeholder=\"Tanya seputar AI/Data Science...\", show_label=False)\n",
        "        btn = gr.Button(\"Kirim\")\n",
        "    btn.click(respond, [inp, chatbot], [chatbot, inp])\n",
        "    inp.submit(respond, [inp, chatbot], [chatbot, inp])\n",
        "\n",
        "demo.launch()\n"
      ],
      "metadata": {
        "colab": {
          "base_uri": "https://localhost:8080/",
          "height": 646
        },
        "id": "plQxbgEP_iLb",
        "outputId": "3fada055-eb2a-4c08-b12d-e1cfec8e72b9"
      },
      "execution_count": 13,
      "outputs": [
        {
          "output_type": "stream",
          "name": "stdout",
          "text": [
            "It looks like you are running Gradio on a hosted Jupyter notebook, which requires `share=True`. Automatically setting `share=True` (you can turn this off by setting `share=False` in `launch()` explicitly).\n",
            "\n",
            "Colab notebook detected. To show errors in colab notebook, set debug=True in launch()\n",
            "* Running on public URL: https://1e93e8538f46384d07.gradio.live\n",
            "\n",
            "This share link expires in 1 week. For free permanent hosting and GPU upgrades, run `gradio deploy` from the terminal in the working directory to deploy to Hugging Face Spaces (https://huggingface.co/spaces)\n"
          ]
        },
        {
          "output_type": "display_data",
          "data": {
            "text/plain": [
              "<IPython.core.display.HTML object>"
            ],
            "text/html": [
              "<div><iframe src=\"https://1e93e8538f46384d07.gradio.live\" width=\"100%\" height=\"500\" allow=\"autoplay; camera; microphone; clipboard-read; clipboard-write;\" frameborder=\"0\" allowfullscreen></iframe></div>"
            ]
          },
          "metadata": {}
        },
        {
          "output_type": "execute_result",
          "data": {
            "text/plain": []
          },
          "metadata": {},
          "execution_count": 13
        }
      ]
    }
  ]
}